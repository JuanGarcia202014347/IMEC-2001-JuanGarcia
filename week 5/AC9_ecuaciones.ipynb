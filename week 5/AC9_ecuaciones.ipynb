{
 "cells": [
  {
   "attachments": {},
   "cell_type": "markdown",
   "metadata": {},
   "source": [
    "# IMEC2001 Herramientas Computacionales \n",
    "## Actividad Clase 9: Sistemas de Ecuaciones\n",
    "### Fecha Límite Entrega (Bloque Neón): <font color=\"#FF5733\">23.59h de Septiembre 6, 2023</font>\n",
    "\n",
    "Universidad de los Andes — Septiembre 4, 2023.\n",
    "\n",
    "___\n",
    "### Tener en Cuenta\n",
    "La entrega de la **Actividad Clase 9** se puede realizar de dos maneras:\n",
    "1. Enviar vía Bloque Neón el archivo en Jupyter Notebook (extensión '.ipynb').\n",
    "2. Enviar vía Bloque Neón el archivo PDF del Jupyter Notebook.\n",
    "\n",
    "**Nota:** <font color=\"#FF5733\">El nombre del archivo debe ser: `AC9_NombreApellido.ipynb`.</font>\n",
    "\n",
    "---\n",
    "\n",
    "## TABLA DE CONTENIDO\n",
    "\n",
    "### Sección 1: Ejercicios [→](#section1)\n",
    "1. Ejercicio 1: Ecuaciones Lineales [→](#exercise1)\n",
    "2. Ejercicio 2: Ecuaciones No Lineales [→](#exercise2)\n",
    "___"
   ]
  },
  {
   "attachments": {},
   "cell_type": "markdown",
   "metadata": {},
   "source": [
    "<a id=\"section1\"></a>\n",
    "# Sección 1: Ejercicios"
   ]
  },
  {
   "attachments": {},
   "cell_type": "markdown",
   "metadata": {},
   "source": [
    "<a id=\"exercise1\"></a>\n",
    "## Ejercicio 1: Ecuaciones Lineales\n",
    "\n",
    "Se tiene el siguiente sistema de ecuaciones lineales:\n",
    "\n",
    "$$\n",
    "\\begin{cases}\n",
    "  3x_1 + 2x_2 + x_3 = 1 \\\\ \n",
    "  \\\\\n",
    "  2x_1 + 2x_2 + 4x_3 = -2 \\\\\n",
    "  \\\\\n",
    "  -x_1 + \\frac{1}{2}x_2 - x_3 = 0\n",
    "\\end{cases} \n",
    "$$\n",
    "\n",
    "<div class=\"alert alert-block alert-warning\">\n",
    "\n",
    "1. Utilizando la librería `numpy.linalg.inv` y `numpy.dots`, resuelva el sistema de ecuaciones.\n",
    "2. Utilizando la librería `numpy.linalg.solve`, resuelva el sistema de ecuaciones.\n",
    "3. Utilizando la librería `sympy.rref()`, resuelva el sistema de ecuaciones.\n",
    "4. Utilizando la librería `scipy.optimize.fsolve`, resuelva el sistema de ecuaciones.\n",
    "5. Utilizando la librería `sympy.solve`, resuelva el sistema de ecuaciones.\n",
    "    \n",
    "</div>"
   ]
  },
  {
   "cell_type": "code",
   "execution_count": 3,
   "metadata": {},
   "outputs": [],
   "source": [
    "# Datos y Gráficas\n",
    "%matplotlib inline\n",
    "import matplotlib.pyplot as plt\n",
    "import pandas as pd\n",
    "\n",
    "# Sistema de Ecuaciones\n",
    "import numpy as np\n",
    "import scipy \n",
    "import sympy"
   ]
  },
  {
   "cell_type": "code",
   "execution_count": 8,
   "metadata": {},
   "outputs": [
    {
     "data": {
      "text/plain": [
       "array([ 0.69230769, -0.15384615, -0.76923077])"
      ]
     },
     "execution_count": 8,
     "metadata": {},
     "output_type": "execute_result"
    }
   ],
   "source": [
    "# Ítem 1\n",
    "A = np.array( [ [3, 2, 1],\n",
    "                [2, 2, 4], [-1, 1/2, -1] ] )\n",
    "\n",
    "b = np.array( [1, -2, 0] )\n",
    "\n",
    "invA = np.linalg.inv(A)\n",
    "\n",
    "x = np.dot(invA, b)\n",
    "x"
   ]
  },
  {
   "cell_type": "code",
   "execution_count": 10,
   "metadata": {},
   "outputs": [
    {
     "data": {
      "text/plain": [
       "array([ 0.69230769, -0.15384615, -0.76923077])"
      ]
     },
     "execution_count": 10,
     "metadata": {},
     "output_type": "execute_result"
    }
   ],
   "source": [
    "# Ítem 2\n",
    "A = np.array( [ [3, 2, 1],\n",
    "                [2, 2, 4], [-1, 1/2, -1] ] )\n",
    "\n",
    "b = np.array( [1, -2, 0] )\n",
    "\n",
    "x = np.linalg.solve(A, b)\n",
    "x"
   ]
  },
  {
   "cell_type": "code",
   "execution_count": 20,
   "metadata": {},
   "outputs": [
    {
     "data": {
      "text/latex": [
       "$\\displaystyle \\left[\\begin{matrix}1 & 0 & 0 & 0.692307692307692\\\\0 & 1 & 0 & -0.153846153846154\\\\0 & 0 & 1 & -0.769230769230769\\end{matrix}\\right]$"
      ],
      "text/plain": [
       "Matrix([\n",
       "[1, 0, 0,  0.692307692307692],\n",
       "[0, 1, 0, -0.153846153846154],\n",
       "[0, 0, 1, -0.769230769230769]])"
      ]
     },
     "execution_count": 20,
     "metadata": {},
     "output_type": "execute_result"
    }
   ],
   "source": [
    "# Ítem 3\n",
    "A_aumentada = sympy.Matrix( [ [3, 2, 1, 1],\n",
    "                              [2, 2, 4, -2], [-1, 1/2, -1, 0] ] )\n",
    "\n",
    "x = A_aumentada.rref()[0]\n",
    "x"
   ]
  },
  {
   "cell_type": "code",
   "execution_count": 26,
   "metadata": {},
   "outputs": [
    {
     "ename": "NameError",
     "evalue": "name 'optimize' is not defined",
     "output_type": "error",
     "traceback": [
      "\u001b[1;31m---------------------------------------------------------------------------\u001b[0m",
      "\u001b[1;31mNameError\u001b[0m                                 Traceback (most recent call last)",
      "\u001b[1;32m~\\AppData\\Local\\Temp\\ipykernel_15592\\3404937832.py\u001b[0m in \u001b[0;36m<module>\u001b[1;34m\u001b[0m\n\u001b[0;32m     17\u001b[0m \u001b[1;33m\u001b[0m\u001b[0m\n\u001b[0;32m     18\u001b[0m \u001b[0mestimacion1\u001b[0m \u001b[1;33m=\u001b[0m \u001b[1;33m[\u001b[0m\u001b[1;36m1\u001b[0m\u001b[1;33m,\u001b[0m \u001b[1;36m1\u001b[0m\u001b[1;33m,\u001b[0m \u001b[1;36m1\u001b[0m\u001b[1;33m]\u001b[0m\u001b[1;33m\u001b[0m\u001b[1;33m\u001b[0m\u001b[0m\n\u001b[1;32m---> 19\u001b[1;33m x = optimize.fsolve(func=f,\n\u001b[0m\u001b[0;32m     20\u001b[0m                     x0=estimacion)\n\u001b[0;32m     21\u001b[0m \u001b[1;33m\u001b[0m\u001b[0m\n",
      "\u001b[1;31mNameError\u001b[0m: name 'optimize' is not defined"
     ]
    }
   ],
   "source": [
    "# Ítem 4\n",
    "def f(z):\n",
    "    ## Definimos las incógnitas\n",
    "    x1 = z[0]\n",
    "    x2 = z[1]\n",
    "    x3 = z[2]\n",
    "    \n",
    "    ## Creamos una lista vacía para alojar las funciones\n",
    "    F = np.zeros(3)\n",
    "    \n",
    "    ## Alojamos las funciones en F (noten la parte derecha igual a cero)\n",
    "    F[0] = 3*x1 + 2*x2 +x3 - 1\n",
    "    F[1] = 2*x1 - 2*x2 + 4*x3 + 2\n",
    "    F[2] = -1*x1 + 1/2*x2 -1*x3 + 0\n",
    "    \n",
    "    return F\n",
    "\n",
    "estimacion1 = [1, 1, 1]\n",
    "x = optimize.fsolve(func=f,\n",
    "                    x0=estimacion)\n",
    "\n",
    "x\n"
   ]
  },
  {
   "cell_type": "code",
   "execution_count": 28,
   "metadata": {},
   "outputs": [
    {
     "data": {
      "text/plain": [
       "{x_1: 0.692307692307692, x_2: -0.153846153846154, x_3: -0.769230769230769}"
      ]
     },
     "execution_count": 28,
     "metadata": {},
     "output_type": "execute_result"
    }
   ],
   "source": [
    "# Ítem 5\n",
    "x1 = sympy.Symbol('x_1')\n",
    "x2 = sympy.Symbol('x_2')\n",
    "x3 = sympy.Symbol('x_3')\n",
    "\n",
    "ec1 = sympy.Eq(3*x1 + 2*x2 +x3, 1)\n",
    "ec2 = sympy.Eq(2*x1 + 2*x2 + 4*x3, -2)\n",
    "ec3 = sympy.Eq(-1*x1 + 1/2*x2 -1*x3, 0)\n",
    "\n",
    "sol = sympy.solve([ec1, ec2, ec3], # Lista de ecuaciones\n",
    "                  [x1, x2, x3]) # Lista de símbolos\n",
    "sol"
   ]
  },
  {
   "attachments": {},
   "cell_type": "markdown",
   "metadata": {},
   "source": [
    "<a id='exercise2'></a>\n",
    "## Ejercicio 2: Ecuaciones No Lineales\n",
    "\n",
    "Se tiene el siguiente sistema de ecuaciones no lineales:\n",
    "\n",
    "$$\n",
    "\\begin{cases}\n",
    "  x^2 + y^2 = 1 \\\\ \n",
    "  \\\\\n",
    "  xy + yz = -1.1 \\\\\n",
    "  \\\\\n",
    "  y^2 + z^2 = 2\n",
    "\\end{cases} \n",
    "$$\n",
    "\n",
    "<div class=\"alert alert-block alert-warning\">\n",
    "\n",
    "1. Utilizando la librería `scipy.optimize.fsolve`, resuelva el sistema de ecuaciones.\n",
    "1. Utilizando la librería `scipy.optimize.roots`, resuelva el sistema de ecuaciones.\n",
    "3. Utilizando la librería `sympy.solve`, resuelva el sistema de ecuaciones.\n",
    "    \n",
    "</div>"
   ]
  },
  {
   "cell_type": "code",
   "execution_count": null,
   "metadata": {},
   "outputs": [],
   "source": [
    "# Ítem 1lkdjalkjd\n"
   ]
  },
  {
   "cell_type": "code",
   "execution_count": null,
   "metadata": {},
   "outputs": [],
   "source": [
    "# Ítem 2\n"
   ]
  },
  {
   "cell_type": "code",
   "execution_count": 32,
   "metadata": {},
   "outputs": [
    {
     "data": {
      "text/plain": [
       "[(-0.864139354188464, 0.503252597154495, -1.32164171523800),\n",
       " (-0.100560885095735, 0.994930906339110, -1.00504352722220),\n",
       " (0.100560885095735, -0.994930906339110, 1.00504352722220),\n",
       " (0.864139354188464, -0.503252597154495, 1.32164171523800)]"
      ]
     },
     "execution_count": 32,
     "metadata": {},
     "output_type": "execute_result"
    }
   ],
   "source": [
    "# Ítem 3\n",
    "x = sympy.Symbol('x')\n",
    "y = sympy.Symbol('y')\n",
    "z = sympy.Symbol('z')\n",
    "\n",
    "ec1 = sympy.Eq(x**2 + y**2, 1)\n",
    "ec2 = sympy.Eq(x*y + y*z, -1.1)\n",
    "ec3 = sympy.Eq(y**2 + z**2, 2)\n",
    "\n",
    "sol = sympy.solve([ec1, ec2, ec3], \n",
    "                  [x, y, z]) \n",
    "sol\n",
    "\n"
   ]
  }
 ],
 "metadata": {
  "kernelspec": {
   "display_name": "Python 3 (ipykernel)",
   "language": "python",
   "name": "python3"
  },
  "language_info": {
   "codemirror_mode": {
    "name": "ipython",
    "version": 3
   },
   "file_extension": ".py",
   "mimetype": "text/x-python",
   "name": "python",
   "nbconvert_exporter": "python",
   "pygments_lexer": "ipython3",
   "version": "3.9.13"
  },
  "toc": {
   "base_numbering": 1,
   "nav_menu": {},
   "number_sections": false,
   "sideBar": true,
   "skip_h1_title": true,
   "title_cell": "Table of Contents",
   "title_sidebar": "Contents",
   "toc_cell": false,
   "toc_position": {},
   "toc_section_display": true,
   "toc_window_display": false
  }
 },
 "nbformat": 4,
 "nbformat_minor": 2
}
