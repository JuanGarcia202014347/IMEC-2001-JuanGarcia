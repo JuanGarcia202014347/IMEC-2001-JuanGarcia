{
 "cells": [
  {
   "cell_type": "markdown",
   "metadata": {},
   "source": [
    "- Nombre 1:\n",
    "- Nombre 2:"
   ]
  },
  {
   "attachments": {},
   "cell_type": "markdown",
   "metadata": {},
   "source": [
    "\n",
    "<p>\n",
    "<img src=./img/Logo_Uniandes.svg width=\"20%\">\n",
    "</p>\n",
    "\n",
    "# Departamento de Ingeniería Mecánica\n",
    "## IMEC 2001 - Herramientas Computacionales\n",
    "### Taller 1 - Interpolación y Raices\n",
    "\n",
    "----\n",
    "### **<span style=\"color:#A1CCD1;\">Condiciones de la entrega </span>**\n",
    "----\n",
    "**1. Fechas de entrega:**\n",
    "- Nota sobre 5.00 ->  <span style=\"color:red;\">3 de Septiembre a las 23:59, 2023</span>\n",
    "- Nota sobre 4.00 ->  <span style=\"color:red;\">4 de Septiembre a las 23:59, 2023</span>\n",
    "\n",
    "**2. Colocar el nombre de los integrantes en la casilla correspondiente<br>**\n",
    "**3. La entrega del taller es por Bloque Neon y se envía el archivo en formato de Jupyter Notebook (extensión `.ipynb`)<br>**\n",
    "**4. El nombre del archivo debe ser:** \n",
    "- Si trabajó en parejas:`T#_ApellidosIntegrante1_ApellidosIntegrante2` (Ej: `T#_Salamanca_VargasTorres`)\n",
    "- Si trabajó individual: `T#_Apellido` (Ej: `T#_VargasTorres`)\n",
    "\n",
    "**5. Comente el código con el proceso que realizó para llegar a la solución.<br>**\n",
    "**6. <span style=\"color:red;\"> Si se detecta copia con otro de los talleres enviados, automáticamente la nota para los grupos involucrados es 0. </span>**\n",
    "\n",
    "\n",
    "----\n",
    "### **<span style=\"color:#A1CCD1;\">Condiciones para el segundo envío </span>**\n",
    "----\n",
    "<div class='alert alert-block alert-info'>   \n",
    "\n",
    "<i class='fa fa-info-circle' aria-hidden='true'></i>\n",
    "Para poder realizar un segundo envío con correcciones, la nota del **primer envío** debe estar mínimo en **Aprendiz**.\n",
    "</div>\n",
    "\n",
    "----\n",
    "### **Tabla de contenido**\n",
    "----\n",
    "### Sección 1: Interpolación [→](#section1)\n",
    "- 1.1. Punto 1: Interpolación puntos aleatorios\n",
    "- 1.2. <font color=\"#276C9B\"> Punto 2: Interpolación ciencia de materiales </font> [→](#exercise1)\n",
    "\n",
    "### Sección 2: Raíces – Solución de Ecuaciones No Lineales [→](#section2)\n",
    "- 2.1. Raices identificando los puntos \n",
    "- 2.2. Esfuerzo de fluencia\n"
   ]
  },
  {
   "cell_type": "code",
   "execution_count": 98,
   "metadata": {},
   "outputs": [],
   "source": [
    "# Importar librerías\n",
    "import pandas as pd\n",
    "import numpy as np\n",
    "import matplotlib.pyplot as plt\n"
   ]
  },
  {
   "cell_type": "code",
   "execution_count": 99,
   "metadata": {},
   "outputs": [],
   "source": [
    "# No edite este código\n",
    "def formato_grafica(ax, fig, titulo= \"\", x_label= \"\", y_label= \"\", leyenda=False, xlim=[None, None], ylim=[None, None]):\n",
    "    \n",
    "    ax.set_title(titulo)\n",
    "    ax.set_xlabel(x_label)\n",
    "    ax.set_ylabel(y_label)\n",
    "    \n",
    "    ax.tick_params(direction='out', length=5, width=0.75, grid_alpha=0.3)\n",
    "    \n",
    "    # Utilizarlo si se necesita alguna rotación en los labels de los ejes\n",
    "#     ax.set_xticklabels(ax.get_xticks(), rotation = 0)\n",
    "#     ax.set_yticklabels(ax.get_yticks(), rotation = 0)\n",
    "    ax.set_xlim(xlim[0], xlim[1])\n",
    "    ax.set_ylim(ylim[0], ylim[1])\n",
    "\n",
    "    # Grid de la gráfica\n",
    "    ax.grid(True)\n",
    "    ax.grid(visible=True, which='major', color='grey', linestyle='-')\n",
    "    ax.minorticks_on()\n",
    "    ax.grid(visible=True, which='minor', color='lightgrey', linestyle='-', alpha=0.2)\n",
    "\n",
    "    if leyenda == True:\n",
    "        ax.legend(loc='best', fontsize= 7)\n",
    "\n",
    "    fig.tight_layout()\n",
    "\n"
   ]
  },
  {
   "cell_type": "markdown",
   "metadata": {},
   "source": [
    "## **Punto 1 - Sección Interpolación**\n",
    "----\n",
    "<div class='alert alert-block alert-info'>   \n",
    "\n",
    "<i class='fa fa-info-circle' aria-hidden='true'></i>\n",
    "A continuación tiene 3 conjuntos de datos para los cuales debe:\n",
    "1. Utiliza la función de numpy np.arange para generar los puntos x de cada conjunto, estos van de 0 a la longitud de cada uno. \n",
    "2. Grafique cada conjunto de datos utilizando [``plt.scatter()``](https://realpython.com/visualizing-python-plt-scatter/)\n",
    "3. Como puede observar, cada gráfica tiene un comportamiento diferente, teniendo que hay un método de interpolación que da una mejor aproximación. Seleccione **3** métodos de interpolación **uno** para cada conjunto de datos (deben ser distintos) y realice la interpolación. \n",
    "4. Grafique en un subplot los puntos que utilizó para la interpolación y los que obtuvo para cada conjunto. \n",
    "\n",
    "**Bono:** Para el punto 3 utilizar las funciones de las interpolaciones en una función, intente generalizarla (que funcione para cualqueir caso). Siga el siguiente formato:\n",
    "``` Python\n",
    "def fun_1(param_1: tipo, param_2: tipo, ....)-> tipo que se retorna:\n",
    "    \"\"\"\n",
    "    Descripción de la función\n",
    "\n",
    "    Parameters\n",
    "    ----------\n",
    "    param_1 : tipo\n",
    "        Descripción del parámetro\n",
    "    param_2 : tipo\n",
    "        Descripción del parámetro\n",
    "\n",
    "    Returns\n",
    "    -------\n",
    "    variable : tipo\n",
    "        Descripción de la variable \n",
    "    \"\"\"\n",
    "    Variables y operaciones con el método de interpolación seleccionado\n",
    "```\n",
    "</div>\n",
    "\n"
   ]
  },
  {
   "cell_type": "code",
   "execution_count": 134,
   "metadata": {},
   "outputs": [
    {
     "name": "stdout",
     "output_type": "stream",
     "text": [
      "Collecting matplotlib\n",
      "  Downloading matplotlib-3.7.2-cp38-cp38-win_amd64.whl (7.5 MB)\n",
      "Requirement already satisfied, skipping upgrade: kiwisolver>=1.0.1 in c:\\users\\juand\\downloads\\anaconda\\lib\\site-packages (from matplotlib) (1.3.0)\n",
      "Requirement already satisfied, skipping upgrade: packaging>=20.0 in c:\\users\\juand\\downloads\\anaconda\\lib\\site-packages (from matplotlib) (20.4)\n",
      "Requirement already satisfied, skipping upgrade: pyparsing<3.1,>=2.3.1 in c:\\users\\juand\\downloads\\anaconda\\lib\\site-packages (from matplotlib) (2.4.7)\n",
      "Requirement already satisfied, skipping upgrade: cycler>=0.10 in c:\\users\\juand\\downloads\\anaconda\\lib\\site-packages (from matplotlib) (0.10.0)\n",
      "Collecting fonttools>=4.22.0\n",
      "  Downloading fonttools-4.42.1-cp38-cp38-win_amd64.whl (1.5 MB)\n",
      "Collecting numpy>=1.20\n",
      "  Downloading numpy-1.24.4-cp38-cp38-win_amd64.whl (14.9 MB)\n",
      "Collecting importlib-resources>=3.2.0; python_version < \"3.10\"\n",
      "  Downloading importlib_resources-6.0.1-py3-none-any.whl (34 kB)\n",
      "Requirement already satisfied, skipping upgrade: pillow>=6.2.0 in c:\\users\\juand\\downloads\\anaconda\\lib\\site-packages (from matplotlib) (8.0.1)\n",
      "Requirement already satisfied, skipping upgrade: python-dateutil>=2.7 in c:\\users\\juand\\downloads\\anaconda\\lib\\site-packages (from matplotlib) (2.8.1)\n",
      "Collecting contourpy>=1.0.1\n",
      "  Downloading contourpy-1.1.0-cp38-cp38-win_amd64.whl (470 kB)\n",
      "Requirement already satisfied, skipping upgrade: six in c:\\users\\juand\\downloads\\anaconda\\lib\\site-packages (from packaging>=20.0->matplotlib) (1.15.0)\n",
      "Requirement already satisfied, skipping upgrade: zipp>=3.1.0; python_version < \"3.10\" in c:\\users\\juand\\downloads\\anaconda\\lib\\site-packages (from importlib-resources>=3.2.0; python_version < \"3.10\"->matplotlib) (3.4.0)\n",
      "Installing collected packages: fonttools, numpy, importlib-resources, contourpy, matplotlib\n",
      "  Attempting uninstall: numpy\n",
      "    Found existing installation: numpy 1.19.2\n",
      "    Uninstalling numpy-1.19.2:\n",
      "      Successfully uninstalled numpy-1.19.2\n",
      "  Attempting uninstall: matplotlib\n",
      "    Found existing installation: matplotlib 3.3.2\n",
      "    Uninstalling matplotlib-3.3.2:\n",
      "Note: you may need to restart the kernel to use updated packages.\n"
     ]
    },
    {
     "name": "stderr",
     "output_type": "stream",
     "text": [
      "ERROR: Could not install packages due to an EnvironmentError: [WinError 32] El proceso no tiene acceso al archivo porque está siendo utilizado por otro proceso: 'c:\\\\users\\\\juand\\\\downloads\\\\anaconda\\\\lib\\\\site-packages\\\\matplotlib\\\\mpl-data\\\\fonts\\\\ttf\\\\DejaVuSans.ttf'\n",
      "Consider using the `--user` option or check the permissions.\n",
      "\n"
     ]
    }
   ],
   "source": [
    "pip install --upgrade matplotlib"
   ]
  },
  {
   "cell_type": "code",
   "execution_count": 135,
   "metadata": {},
   "outputs": [],
   "source": [
    "# Conjuntos de datos\n",
    "datos_1 = np.array([  0. ,   62.5,  250. ,  562.5, 1000.])\n",
    "\n",
    "datos_2 = np.array([0.00000000e+00, 9.82812500e+02, 3.12750000e+04, 2.37360938e+05,\n",
    "                    1.00010000e+06, 3.05191406e+06, 7.59397500e+06, 1.64133922e+07,\n",
    "                    3.20004000e+07])\n",
    "\n",
    "\n",
    "datos_3 = np.array([0.        ,   6.12244898,  12.24489796,  18.36734694,\n",
    "                    24.48979592,  30.6122449 ,  36.73469388,  42.85714286,\n",
    "                    48.97959184,  55.10204082,  61.2244898 ,  67.34693878,\n",
    "                    73.46938776,  79.59183673,  85.71428571,  91.83673469,\n",
    "                    97.95918367, 104.08163265, 110.20408163])\n"
   ]
  },
  {
   "cell_type": "code",
   "execution_count": 136,
   "metadata": {},
   "outputs": [],
   "source": [
    "# 1.1. Generar puntos en x\n",
    "datos_1_x = np.arange(len(datos_1))\n",
    "datos_2_x = np.arange(len(datos_2)) \n",
    "datos_3_x = np.arange(len(datos_3)) \n",
    "\n"
   ]
  },
  {
   "cell_type": "code",
   "execution_count": 137,
   "metadata": {},
   "outputs": [
    {
     "data": {
      "image/png": "[encoded data removed]",
      "text/plain": [
       "<Figure size 1080x360 with 3 Axes>"
      ]
     },
     "metadata": {
      "needs_background": "light"
     },
     "output_type": "display_data"
    }
   ],
   "source": [
    "# 1.2. Gráficar en un subplot 3 columnas - 1 fila \n",
    "fig, ax = plt.subplots(1, 3, figsize=(15, 5))\n",
    "\n",
    "\n",
    "ax[0].scatter(datos_1_x, datos_1, label='Datos 1')\n",
    "ax[1].scatter(datos_2_x, datos_2, label='Datos 2')\n",
    "ax[2].scatter(datos_3_x, datos_3, label='Datos 3')\n",
    "\n",
    "x1_nuevo = np.linspace(datos_1_x.min(), datos_1_x.max(), 300)\n",
    "x2_nuevo = np.linspace(datos_2_x.min(), datos_2_x.max(), 300)\n",
    "x3_nuevo = np.linspace(datos_3_x.min(), datos_3_x.max(), 300)\n"
   ]
  },
  {
   "cell_type": "code",
   "execution_count": 138,
   "metadata": {},
   "outputs": [],
   "source": [
    "# Importar librerías para la interpolación\n",
    "from scipy import interpolate\n"
   ]
  },
  {
   "cell_type": "code",
   "execution_count": 139,
   "metadata": {},
   "outputs": [],
   "source": [
    "# 1.3. Métodod interpolación\n",
    "def interpolar_graficar(x, y, method, ax, color): #1er método\n",
    "    f = interpolate.interp1d(x, y, kind=method)\n",
    "    y_nuevo1d = f(x1_nuevo)\n",
    "    return y_nuevo1d\n",
    "\n",
    "def interpolar_spline(x,y, nuevo_x): #2do método\n",
    "    f = interpolate.CubicSpline(x, y)\n",
    "    y_nuevo_cubi = f(nuevo_x)\n",
    "    return y_nuevo_cubi\n",
    "\n",
    "def interpolar_polinomial(x,y, nuevo_x, grado): #3er método\n",
    "    coeficiente = np.polyfit(x, y, grado)\n",
    "    y_nuevo_poli = np.polyval(coeficiente, nuevo_x)\n",
    "    return y_nuevo_poli"
   ]
  },
  {
   "cell_type": "code",
   "execution_count": 140,
   "metadata": {},
   "outputs": [],
   "source": [
    "# Interpolación datos 1\n",
    "y_1_nuevo_inter = interpolar_graficar(datos_1_x, datos_1, 'linear', axs[0], 'red')\n",
    "\n",
    "# Interpolación datos 2\n",
    "y2_nuevo_spl = interpolar_spline(datos_2_x, datos_2, x2_nuevo)\n",
    "\n",
    "\n",
    "# Interpolación datos 3\n",
    "y3_nuevo_poli = interpolar_polinomial(datos_3_x, datos_3, x3_nuevo, 2) #decidí un grado 2\n",
    "\n"
   ]
  },
  {
   "cell_type": "code",
   "execution_count": 141,
   "metadata": {},
   "outputs": [
    {
     "data": {
      "text/plain": [
       "<Figure size 432x288 with 0 Axes>"
      ]
     },
     "metadata": {},
     "output_type": "display_data"
    }
   ],
   "source": [
    "# 1.4. Gráficar los datos interpolados \n",
    "ax[0].plot(x1_nuevo, y_1_nuevo_inter, color='red', label='Interpolación Lineal')\n",
    "ax[0].legend()\n",
    "ax[0].set_title('Interpolación 1D')\n",
    "ax[0].set_xlabel('Índice de Datos')\n",
    "ax[0].set_ylabel('Valor de Datos')\n",
    "\n",
    "ax[1].plot(x2_nuevo, y2_nuevo_spl, color='blue', label='Interpolación Spline')\n",
    "ax[1].legend()\n",
    "ax[1].set_title('Interpolación Spline')\n",
    "ax[1].set_xlabel('Índice de Datos')\n",
    "ax[1].set_ylabel('Valor de Datos')\n",
    "\n",
    "# Graficar datos originales y datos interpolados en el tercer subplot\n",
    "ax[2].plot(x3_nuevo, y3_nuevo_poli, color='green', label='Interpolación Polinómica')\n",
    "ax[2].legend()\n",
    "ax[2].set_title('Interpolación Polinómica')\n",
    "ax[2].set_xlabel('Índice de Datos')\n",
    "ax[2].set_ylabel('Valor de Datos')\n",
    "\n",
    "# Ajustar espacio entre subplots\n",
    "plt.tight_layout()\n",
    "\n",
    "# Mostrar la figura con los subplots y gráficos\n",
    "plt.show()"
   ]
  },
  {
   "attachments": {},
   "cell_type": "markdown",
   "metadata": {},
   "source": [
    "----\n",
    "## Punto 2\n",
    "----\n",
    "\n",
    "Algunas de las cargas que se pueden encontrar en la ingeniería son de tensión, compresión, torsión y cortante, para el taller se trabajará con el primero. Una de las pruebas que se le realizan a los materiales es la prueba de tensión en donde se deforma la probeta aplicando una carga axial hasta que se llega a la fractura como se muestra en la siguiente imagen:\n",
    "\n",
    "\n",
    "<p align=\"center\">\n",
    "<img src=./img/ensayo_tension.jpg width=\"20%\">\n",
    "</p>\n",
    "\n",
    "Ahora, se quiere encontrar el esfuerzo de tracción, el cual está definido como:\n",
    "$$\\sigma = \\frac{F}{A_0}$$\n",
    "\n",
    "Siendo $F$ la fuerza que está siendo aplicada y $A$ el área de la sección transversal, de la cual su fórmula para este caso está dada por:\n",
    "\n",
    "$$A_0 = \\pi r^2$$\n",
    "<p align=\"center\">\n",
    "<img src=./img/tension.jpg width=\"20%\">\n",
    "</p>\n",
    "\n",
    "Ahora, para la deformación unitaria, definida como el cambio entre la longitud inicial y la final, sobre la inicial:\n",
    "\n",
    "$$\\epsilon = \\frac{l_i - l_0}{l_0} $$\n",
    "\n",
    "\n",
    "<div class='alert alert-block alert-info'>   \n",
    "\n",
    "<i class='fa fa-info-circle' aria-hidden='true'></i>\n",
    "Se quiere reconstruir la curva de Esfuerzo - Deformación del aluminio 6063, la probeta tiene un diámetro de 9 mm y una longitud inicial de 25 mm. \n",
    "\n",
    "Como puede observar, se tienen comportamientos distintos en cada una de las secciones, al igual que en el ejercicio anterior, debe poder recrear la curva utilizando las diferentes funciones de interpolación (si realizó las funciones de la sección pasada las puede utilizar en este punto). Los datos que se suministran para el ejercicio son de fuerza, el tiempo y la extensión de tracción medida por el equipo. \n",
    "\n",
    "**2.1. Importe el csv que se encuentra en el repositorio**\n",
    "- Tenga en cuenta que se tienen dos headers, revise la documentación para presentar un dataFrame con ambos. \n",
    "- Agregue **encoding='utf-8'** para que se cargue correctamente el archivo. \n",
    "\n",
    "**2.2. Creación DataFrame <br>**\n",
    "- Con los datos dados cree un DataFrame con los cuales sus columnas sean: (Fuerza, Deformación).\n",
    "- Encuentre el esfuerzo y la deformación **unitaria** de los datos dados con las fórmulas dadas, estos datos deben quedar en el DataFrame creado como nuevas columnas. \n",
    "- **Importante:** Para la deformación unitaria ya se le dan los datos de cuánto se deformó por lo que debe tomar la longitud inicial y dividirla entre el número respectivo. \n",
    "\n",
    "**2.3. Grafique los puntos y comente cuáles funciones junto con su librería utilizaría para interpolar cada sección junto con una justificación <br>**\n",
    "**2.4. Interpole los datos <br>**\n",
    "**2.5. Grafique la curva con los datos dados y la de los datos del csv.**\n",
    "- Con esto puede comprobar si su interpolación fue correcta y se acerca a la original.\n",
    "\n",
    "\n",
    "**Recomendaciones:**\n",
    "- Divida correctamente los datos para cada sección. \n",
    "\n",
    "</div>\n"
   ]
  },
  {
   "cell_type": "code",
   "execution_count": null,
   "metadata": {},
   "outputs": [],
   "source": [
    "# 1. Importe los datos del csv [Tenga en cuenta que se tienen 2 headers]\n"
   ]
  },
  {
   "cell_type": "code",
   "execution_count": null,
   "metadata": {},
   "outputs": [],
   "source": [
    "# 2. Datos iniciales\n"
   ]
  },
  {
   "cell_type": "code",
   "execution_count": null,
   "metadata": {},
   "outputs": [],
   "source": [
    "# 3. Calcular área\n"
   ]
  },
  {
   "cell_type": "code",
   "execution_count": null,
   "metadata": {},
   "outputs": [],
   "source": [
    "# 4. Encontrar esfuerzo y deformación  [Se deja el DataFrame con un header]\n"
   ]
  },
  {
   "cell_type": "code",
   "execution_count": null,
   "metadata": {},
   "outputs": [],
   "source": [
    "# 5. Gráfica esfuerzo vs deformación \n",
    "# %matplotlib inline\n",
    "\n"
   ]
  },
  {
   "attachments": {},
   "cell_type": "markdown",
   "metadata": {},
   "source": [
    "Para realizar la división del conjunto de datos utilice la siguiente función, tenga en cuenta que este es un ejemplo, debe especificar los límites:\n",
    "\n",
    "``` pyhton\n",
    "\n",
    "df[df.apply(lambda x: num_sup >= x['Deformación']>= num_inf axis=1)]\n",
    "```\n"
   ]
  },
  {
   "cell_type": "code",
   "execution_count": null,
   "metadata": {},
   "outputs": [],
   "source": [
    "# Conjuntos de datos \n",
    "\n"
   ]
  },
  {
   "cell_type": "code",
   "execution_count": null,
   "metadata": {},
   "outputs": [],
   "source": [
    "# Subplot (1x3) de cada tramo\n"
   ]
  },
  {
   "cell_type": "code",
   "execution_count": null,
   "metadata": {},
   "outputs": [],
   "source": [
    "# Selección de las columnas de interés ¿Cuáles son?\n"
   ]
  },
  {
   "cell_type": "code",
   "execution_count": null,
   "metadata": {},
   "outputs": [],
   "source": [
    "# DataFrame conjunto 1 \n"
   ]
  },
  {
   "cell_type": "code",
   "execution_count": null,
   "metadata": {},
   "outputs": [],
   "source": [
    "# DataFrame conjunto 2"
   ]
  },
  {
   "cell_type": "code",
   "execution_count": null,
   "metadata": {},
   "outputs": [],
   "source": [
    "# DataFrame conjunto 3"
   ]
  },
  {
   "cell_type": "code",
   "execution_count": null,
   "metadata": {},
   "outputs": [],
   "source": [
    "# Función para la selección de datos aleatorios[¡No modifique esta función!]\n",
    "def newData(data_s_c: pd.DataFrame, c: pd.DataFrame, col_1: str, col_2: str, percentage: float):\n",
    "    \"\"\"\n",
    "    unción para la selección de datos aleatorios dados un porcentaje\n",
    "\n",
    "    Parameters\n",
    "    ----------\n",
    "    data_s_c : pd.DataFrame\n",
    "        Conjunto de datos con las columnas especificadas\n",
    "    c : pd.DataFrame\n",
    "        Conjunto completo de los datos\n",
    "    col_1 : str\n",
    "        Primera columna de interés\n",
    "    col_2 : str\n",
    "        Segunda columna de interés\n",
    "    percentage : float\n",
    "        Porcentaje de los datos que se quiere incluir\n",
    "\n",
    "    Returns\n",
    "    -------\n",
    "    data_s_c1_ : pd.DataFrame\n",
    "        Datos aleatorios del conjunto de datos\n",
    "    \"\"\"\n",
    "    data_s_c1 = c[[col_1, col_2]]\n",
    "    data_s_c1_ = data_s_c.head(1)\n",
    "    data_s_c1_ = pd.concat([data_s_c1_,\n",
    "                       c[[col_1, col_2]].sample(n=int(np.round(len(c[col_1])*percentage,0)), random_state=1)])\n",
    "    data_s_c1_.sort_index(inplace=True)\n",
    "    data_s_c1_ = pd.DataFrame(np.insert(data_s_c1_.values, len(data_s_c1_), \n",
    "                                        values=list(data_s_c1.iloc[-1]),\n",
    "                                        axis=0), columns = [col_1, col_2])\n",
    "    data_s_c1_ = data_s_c1_.drop_duplicates()\n",
    "    data_s_c1_ = data_s_c1_.reset_index(drop=True)\n",
    "    return data_s_c1_\n"
   ]
  },
  {
   "attachments": {},
   "cell_type": "markdown",
   "metadata": {},
   "source": [
    "Seleccionados los 3 conjuntos de datos se debe disminuir la cantidad de puntos para realizar el ejercicio de la interpolación, por lo que utilizando la función anterior [**newData**] debe utilizar los siguientes porcentajes según el conjunto de datos:\n",
    "- Conjunto 1: 20%\n",
    "- Conjunto 2: 4%\n",
    "- Conjunto 3: 100% [Si tiene más de 19 datos disminuya a 80%]"
   ]
  },
  {
   "cell_type": "code",
   "execution_count": null,
   "metadata": {
    "scrolled": false
   },
   "outputs": [],
   "source": [
    "# Datos seleccionados tramo 1\n"
   ]
  },
  {
   "cell_type": "code",
   "execution_count": null,
   "metadata": {},
   "outputs": [],
   "source": [
    "# Datos seleccionados tramo 2\n"
   ]
  },
  {
   "cell_type": "code",
   "execution_count": null,
   "metadata": {},
   "outputs": [],
   "source": [
    "# Datos seleccionados tramo 3 \n"
   ]
  },
  {
   "cell_type": "code",
   "execution_count": null,
   "metadata": {},
   "outputs": [],
   "source": [
    "# Evaluar el comportamiento de cada tramo con los datos seleccionados \n"
   ]
  },
  {
   "cell_type": "code",
   "execution_count": null,
   "metadata": {},
   "outputs": [],
   "source": [
    "# Datos de x y y para cada conjunto de datos [Se recomienda pasarlo a un array después de seleccionar la columna del DatFrame]\n"
   ]
  },
  {
   "cell_type": "code",
   "execution_count": null,
   "metadata": {},
   "outputs": [],
   "source": [
    "# Realizar interpolación \n",
    "\n"
   ]
  },
  {
   "cell_type": "code",
   "execution_count": null,
   "metadata": {},
   "outputs": [],
   "source": [
    "# Evaluar el comportamiento de cada tramo\n"
   ]
  },
  {
   "cell_type": "code",
   "execution_count": null,
   "metadata": {},
   "outputs": [],
   "source": [
    "# Evaluar el comportamiento de cada tramo en conjunto [Debe poder reconstruir la curva]\n"
   ]
  },
  {
   "cell_type": "markdown",
   "metadata": {},
   "source": [
    "## **Punto 3 - Sección Raíces**\n",
    "----\n",
    "\n",
    "<p align=\"center\">\n",
    "<img src=./img/Ejercicio_2.png width=\"30%\">\n",
    "</p>\n",
    "\n",
    "\n",
    "En la figura anterior tiene dos curvas con las cuales debe:\n",
    "1. Obtener datos de x y y de cada una\n",
    "2. Interpole los datos (Esto con el fin de aproximar mejor la solución)\n",
    "2. Utilizando la librería polyfit de numpy y los datos del literal anterior encuentre las ecuaciones de las curvas.\n",
    "3. Teniendo las ecuaciones diga cuál sería la raíz para este caso. \n",
    "4. Encuentre la raíz utilizando las ecuaciones encontradas. \n"
   ]
  },
  {
   "cell_type": "markdown",
   "metadata": {},
   "source": []
  },
  {
   "cell_type": "code",
   "execution_count": null,
   "metadata": {},
   "outputs": [],
   "source": [
    "# Puntos con las curvas\n",
    "\n",
    "\n",
    "# Ineterpolación de los puntos\n"
   ]
  },
  {
   "cell_type": "code",
   "execution_count": null,
   "metadata": {},
   "outputs": [],
   "source": [
    "# Graficar puntos [Reconstrucción de la gráfica inicial]\n"
   ]
  },
  {
   "cell_type": "code",
   "execution_count": null,
   "metadata": {},
   "outputs": [],
   "source": [
    "# Encontrar ecuaciones curva 1\n"
   ]
  },
  {
   "cell_type": "code",
   "execution_count": null,
   "metadata": {},
   "outputs": [],
   "source": [
    "# Encontrar ecuaciones curva 2\n"
   ]
  },
  {
   "cell_type": "code",
   "execution_count": null,
   "metadata": {},
   "outputs": [],
   "source": [
    "# Encontrar raices "
   ]
  },
  {
   "attachments": {},
   "cell_type": "markdown",
   "metadata": {},
   "source": [
    "## Punto 4\n",
    "----\n",
    "\n",
    "Uno de los puntos importantes que se obtienen con la curva esfuerzo vs deformación es el esfuerzo de fluencia $S_{y}$, este se define como el esfuerzo máximo que se puede desarrollar en un material sin causar una deformación plástica[1]. Este se puede encontrar trazando una línea paralela y que parte desde el 0.002 en el eje x que es el que tiene la deformación, cuando se interseca con la curva original del material es cuando se obtiene su valor. \n",
    "\n",
    "1. Utilizando algunos puntos del primer tramo del punto 2, encuentre el módulo de Young. \n",
    "- Para que no se tengan errores con la función de *polyfit* utilizar con los valores escogidos utilice np.array(x).reshape(-1,).\n",
    "2. Se quiere encontrar el esfuerzo de Fluencia para lo cual de los puntos que seleccionó anteriormente al ser un array: \n",
    "- 2.1. En una nueva variable sumele a la deformación 0.002.\n",
    "- 2.2. Encuentre la ecuación utilzando los nuevos x (deformacion) y el y (Esfuerzo) del literal 1.\n",
    "- 2.3. Para realizar la paralela y que cruce la curva inicial defina una variable que van a ser los nuevos puntos x utilizando como punto inicial el x[0] de la deformación desplazada. \n",
    "- 2.4. Evalúe los valores del 2.3. en la ecuación del punto 2.2.\n",
    "\n",
    "3. Grafique la recta encontrada junto con la gráfica de esfuerzo deformación del tramo correspondiente.\n",
    "4. Como puede evidenciar en donde se corta con la curva original si se delimita entre 0.00314 y 0.008 se tiene una recta. Encuentre la ecuación de esta recta.\n",
    "5. En este caso se encuentra que se tiene un problema de raices, siendo esta en donde se intersecan las rectas. Encuentre el esfuerzo de fluencia del material y compare con la literatura. \n",
    "\n",
    "\n",
    "[1] https://www.instron.com/es-es/resources/glossary/y/yield-strength"
   ]
  },
  {
   "cell_type": "code",
   "execution_count": null,
   "metadata": {},
   "outputs": [],
   "source": [
    "#Punto 1.1. Selección datos x y y para encontrar el módulo de Young\n"
   ]
  },
  {
   "cell_type": "code",
   "execution_count": null,
   "metadata": {},
   "outputs": [],
   "source": [
    "# Encontrar ecuación de la recta [Módulo de Young]\n"
   ]
  },
  {
   "cell_type": "code",
   "execution_count": null,
   "metadata": {},
   "outputs": [],
   "source": [
    "# 2.1. Desplazar la gráfica al 0.0002\n",
    "\n",
    "\n",
    "# 2.2. Encontrar la ecuación \n"
   ]
  },
  {
   "cell_type": "code",
   "execution_count": null,
   "metadata": {},
   "outputs": [],
   "source": [
    "# 2.3. - 2.4. Creación de datos para graficar\n"
   ]
  },
  {
   "cell_type": "code",
   "execution_count": null,
   "metadata": {},
   "outputs": [],
   "source": [
    "# 3. Gráfica\n"
   ]
  },
  {
   "cell_type": "code",
   "execution_count": null,
   "metadata": {},
   "outputs": [],
   "source": [
    "# 4. Delimitar rangos esfuerzo deformación del tramo de interés  \n"
   ]
  },
  {
   "cell_type": "code",
   "execution_count": null,
   "metadata": {},
   "outputs": [],
   "source": [
    "# 4.1. Encontrar ecuación de la recta\n"
   ]
  },
  {
   "cell_type": "code",
   "execution_count": null,
   "metadata": {},
   "outputs": [],
   "source": [
    "# 5. Encontrar Raiz \n"
   ]
  }
 ],
 "metadata": {
  "kernelspec": {
   "display_name": "Python 3 (ipykernel)",
   "language": "python",
   "name": "python3"
  },
  "language_info": {
   "codemirror_mode": {
    "name": "ipython",
    "version": 3
   },
   "file_extension": ".py",
   "mimetype": "text/x-python",
   "name": "python",
   "nbconvert_exporter": "python",
   "pygments_lexer": "ipython3",
   "version": "3.11.4"
  },
  "vscode": {
   "interpreter": {
    "hash": "53a1c45876d37b93742cefcbccd0e028309dbdecc6e457f55650f19fbe3f8ebb"
   }
  }
 },
 "nbformat": 4,
 "nbformat_minor": 2
}
