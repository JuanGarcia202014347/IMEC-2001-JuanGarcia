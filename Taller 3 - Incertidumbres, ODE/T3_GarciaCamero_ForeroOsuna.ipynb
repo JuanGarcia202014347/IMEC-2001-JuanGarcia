{
 "cells": [
  {
   "cell_type": "markdown",
   "id": "ea6e2bc4",
   "metadata": {},
   "source": [
    "Estudiante 1:\n",
    "\n",
    "Estudiante 2:\n",
    "\n",
    "----"
   ]
  },
  {
   "cell_type": "markdown",
   "id": "f09b1d95",
   "metadata": {},
   "source": [
    "# Departamento de Ingeniería Mecánica\n",
    "## IMEC 2001 - Herramientas Computacionales\n",
    "### Taller 3 - Sistemas de Ecuaciones Ordinarias\n",
    "----\n",
    "### **<span style=\"color:#A1CCD1;\">Condiciones de la entrega </span>**\n",
    "----\n",
    "**1. Fechas de entrega:**\n",
    "- Nota sobre 5.00 ->  <span style=\"color:red;\">1 de Octubre a las 23:59, 2023</span>\n",
    "\n",
    "**2. Colocar el nombre de los integrantes en la casilla correspondiente<br>**\n",
    "**3. La entrega del taller es por Bloque Neon y se envía el archivo en formato de Jupyter Notebook (extensión `.ipynb`)<br>**\n",
    "**4. El nombre del archivo debe ser:** \n",
    "- Si trabajó en parejas:`T#_ApellidosIntegrante1_ApellidosIntegrante2` (Ej: `T#_Salamanca_VargasTorres`)\n",
    "- Si trabajó individual: `T#_Apellido` (Ej: `T#_VargasTorres`)\n",
    "\n",
    "**5. Comente el código con el proceso que realizó para llegar a la solución.<br>**\n",
    "**6. <span style=\"color:red;\"> Si se detecta copia con otro de los talleres enviados, automáticamente la nota para los grupos involucrados es 0. </span>**\n",
    "\n",
    "\n",
    "\n"
   ]
  },
  {
   "cell_type": "markdown",
   "id": "54dac631",
   "metadata": {},
   "source": [
    "<a id=\"exercise3\"></a>\n",
    "## <font color=\"#276C9B\"> Actividad 1  </font>\n",
    "\n",
    "En los sistemas dinámicos bidimensionales para algunos casos se tienen los ciclos límite los cuales son una trayectoria cerrada en el espacio. A continuación tiene las ecuaciones de las que debe encontrar la solución para $x$ y $y$:\n",
    "\n",
    "$$y = - x' + x(1-x^2-y^2)$$\n",
    "$$-x = -y' + y(1-x^2-y^2)$$ \n",
    "\n",
    "El ejercicio que debe realizar consta de los siguientes pasos: \n",
    "1. Reescriba la ecuación para que se exprese la primera derivada en términos de x y y. \n",
    "3. Especifique como condiciones iniciales:\n",
    "- x(0) = 0\n",
    "- y(0) = 1\n",
    "4. Especifique el tiempo en el que se va a estudiar la respuesta. \n",
    "4. Solucione el sistema ode. \n",
    "5. Debe realizar una gráfica interactiva teniendo en cuenta la solución encontrada en el literal anterior. Para esto utilice la siguiente función (lo que se encuentra comentado debe completarlo): \n",
    "\n",
    "```Python\n",
    "def f(alpha, t):\n",
    "    tiempo = # Completar\n",
    "    sol = # Completar\n",
    "    \n",
    "    w = 3\n",
    "    x = np.linspace(-w, w, 101)\n",
    "    y = np.linspace(-w, w, 101)\n",
    "    # full coordinate arrays\n",
    "    X, Y = np.meshgrid(x, y)\n",
    "    U = alpha*X - alpha*(X**2 + Y**2)*X - Y\n",
    "    V = alpha*Y - alpha*(X**2 + Y**2)*Y + X\n",
    "    \n",
    "    fig, ax = plt.subplots(figsize=(5,5))\n",
    "    ax.plot(# Completar con la solución encontrada)\n",
    "    ax.streamplot(X,Y,U,V)\n",
    "\n",
    "    formato_grafica(# Completar)\n",
    " ```\n",
    "Para poder desplegar la gráfica utilice la siguiente línea de código:\n",
    "```Python\n",
    " interact(f, alpha=(0, 1, 0.1), t=(0, 'Completar', 0.1))\n",
    " ```"
   ]
  },
  {
   "cell_type": "code",
   "execution_count": 1,
   "id": "2428504a",
   "metadata": {},
   "outputs": [],
   "source": [
    "# Primero se cargan las librerías\n",
    "# Datos y Gráficas\n",
    "%matplotlib inline\n",
    "import matplotlib.pyplot as plt\n",
    "import pandas as pd\n",
    "import numpy as np\n",
    "import sympy\n",
    "from sympy.physics.mechanics import *\n",
    "from ipywidgets import interact\n",
    "\n",
    "\n",
    "# ODE\n",
    "from scipy import integrate"
   ]
  },
  {
   "cell_type": "code",
   "execution_count": 4,
   "id": "76a5cbf6",
   "metadata": {},
   "outputs": [
    {
     "data": {
      "text/plain": [
       "<function __main__.ode(variables, t)>"
      ]
     },
     "execution_count": 4,
     "metadata": {},
     "output_type": "execute_result"
    }
   ],
   "source": [
    "# Reescribo las ecuaciones y despejo las derivadas correspondientes\n",
    "def ode(variables, t):\n",
    "    # Variables\n",
    "    x = variables[0]\n",
    "    y = variables[1]\n",
    "    \n",
    "    # Ecuaciones\n",
    "    dx_dt = (x*(1-(x**2)-(y**2)))-y\n",
    "    dy_dt = (y*(1-(x**2)-(y**2)))+x\n",
    "    \n",
    "    return [dx_dt, dy_dt]\n",
    "\n",
    "\n",
    "ode"
   ]
  },
  {
   "cell_type": "code",
   "execution_count": 3,
   "id": "d134152e",
   "metadata": {},
   "outputs": [
    {
     "data": {
      "text/plain": [
       "[0, 1]"
      ]
     },
     "execution_count": 3,
     "metadata": {},
     "output_type": "execute_result"
    }
   ],
   "source": [
    "# Especifico las condiciones iniciales\n",
    "condiciones_iniciales = [0, 1] # [x0, y0]\n",
    "condiciones_iniciales"
   ]
  },
  {
   "cell_type": "code",
   "execution_count": 5,
   "id": "4b6479b6",
   "metadata": {},
   "outputs": [
    {
     "data": {
      "text/plain": [
       "array([ 0.        ,  1.02040816,  2.04081633,  3.06122449,  4.08163265,\n",
       "        5.10204082,  6.12244898,  7.14285714,  8.16326531,  9.18367347,\n",
       "       10.20408163, 11.2244898 , 12.24489796, 13.26530612, 14.28571429,\n",
       "       15.30612245, 16.32653061, 17.34693878, 18.36734694, 19.3877551 ,\n",
       "       20.40816327, 21.42857143, 22.44897959, 23.46938776, 24.48979592,\n",
       "       25.51020408, 26.53061224, 27.55102041, 28.57142857, 29.59183673,\n",
       "       30.6122449 , 31.63265306, 32.65306122, 33.67346939, 34.69387755,\n",
       "       35.71428571, 36.73469388, 37.75510204, 38.7755102 , 39.79591837,\n",
       "       40.81632653, 41.83673469, 42.85714286, 43.87755102, 44.89795918,\n",
       "       45.91836735, 46.93877551, 47.95918367, 48.97959184, 50.        ])"
      ]
     },
     "execution_count": 5,
     "metadata": {},
     "output_type": "execute_result"
    }
   ],
   "source": [
    "# Especifico los valores para el tiempo en que se estudiará la respuesta\n",
    "inicio = 0\n",
    "final = 50\n",
    "cantidad = 50\n",
    "\n",
    "tiempo = np.linspace(inicio, final, cantidad)\n",
    "tiempo"
   ]
  },
  {
   "cell_type": "code",
   "execution_count": 6,
   "id": "9c4f9321",
   "metadata": {},
   "outputs": [
    {
     "data": {
      "text/plain": [
       "array([[ 0.        ,  1.        ],\n",
       "       [-0.85232156,  0.52301813],\n",
       "       [-0.89155926, -0.45290407],\n",
       "       [-0.08028172, -0.99677221],\n",
       "       [ 0.80758164, -0.58975579],\n",
       "       [ 0.92504142,  0.37986627],\n",
       "       [ 0.1600452 ,  0.98710969],\n",
       "       [-0.75762832,  0.65268625],\n",
       "       [-0.95255193, -0.30437615],\n",
       "       [-0.23877564, -0.97107477],\n",
       "       [ 0.70278392, -0.71140338],\n",
       "       [ 0.97391319,  0.22692096],\n",
       "       [ 0.3159647 ,  0.94877096],\n",
       "       [-0.64340262,  0.76552798],\n",
       "       [-0.98898724, -0.14800085],\n",
       "       [-0.39111401, -0.92034224],\n",
       "       [ 0.57986776, -0.81471062],\n",
       "       [ 0.99767678,  0.0681253 ],\n",
       "       [ 0.46373844,  0.88597216],\n",
       "       [-0.5125895 ,  0.85863381],\n",
       "       [-0.99992571,  0.01219004],\n",
       "       [-0.53336916, -0.84588259],\n",
       "       [ 0.44200216, -0.89701399],\n",
       "       [ 0.9957195 , -0.09242668],\n",
       "       [ 0.59955666,  0.80033232],\n",
       "       [-0.36856143,  0.92960341],\n",
       "       [-0.98508532,  0.17206665],\n",
       "       [-0.66187365, -0.74961543],\n",
       "       [ 0.2927414 , -0.95619166],\n",
       "       [ 0.96809181, -0.25059583],\n",
       "       [ 0.71991784,  0.6940593 ],\n",
       "       [-0.21503156,  0.97660711],\n",
       "       [-0.94484867,  0.32750726],\n",
       "       [-0.77331452, -0.63402261],\n",
       "       [ 0.13593355, -0.99071796],\n",
       "       [ 0.91550596, -0.40230443],\n",
       "       [ 0.82171899,  0.5698929 ],\n",
       "       [-0.05595801,  0.99843313],\n",
       "       [-0.8802531 ,  0.47450447],\n",
       "       [-0.86481876, -0.50208419],\n",
       "       [-0.02437878, -0.9997028 ],\n",
       "       [ 0.83931767, -0.5436413 ],\n",
       "       [ 0.90233559,  0.43103422],\n",
       "       [ 0.10455818,  0.99451878],\n",
       "       [-0.79296393,  0.6092686 ],\n",
       "       [-0.93402729, -0.35720166],\n",
       "       [-0.1840626 , -0.98291453],\n",
       "       [ 0.74149112, -0.67096269],\n",
       "       [ 0.95968928,  0.28106315],\n",
       "       [ 0.26237878,  0.96496497]])"
      ]
     },
     "execution_count": 6,
     "metadata": {},
     "output_type": "execute_result"
    }
   ],
   "source": [
    "sol = integrate.odeint(func=ode, \n",
    "                       y0=condiciones_iniciales, \n",
    "                       t=tiempo)\n",
    "sol"
   ]
  },
  {
   "cell_type": "code",
   "execution_count": 9,
   "id": "e7d92fab",
   "metadata": {},
   "outputs": [
    {
     "data": {
      "application/vnd.jupyter.widget-view+json": {
       "model_id": "0bf6464806a64dfbbf0127f4f1ed5fbd",
       "version_major": 2,
       "version_minor": 0
      },
      "text/plain": [
       "interactive(children=(FloatSlider(value=0.0, description='alpha', max=1.0), FloatSlider(value=2.0, description…"
      ]
     },
     "metadata": {},
     "output_type": "display_data"
    }
   ],
   "source": [
    "# Completo la gráfica interactiva\n",
    "def f(alpha, t):\n",
    "    w = 3\n",
    "    x = np.linspace(-w, w, 101)\n",
    "    y = np.linspace(-w, w, 101)\n",
    "    X, Y = np.meshgrid(x, y)\n",
    "    U = alpha * X - alpha * (X**2 + Y**2) * X - Y\n",
    "    V = alpha * Y - alpha * (X**2 + Y**2) * Y + X\n",
    "    \n",
    "    fig, ax = plt.subplots(figsize=(5, 5))\n",
    "    ax.plot(sol[:, 0], sol[:, 1], label='Solución Encontrada', color='red')\n",
    "    ax.streamplot(X, Y, U, V, color='green', linewidth=0.5, density=2)\n",
    "    formato_grafica('Solución Sistema Dinámico', 'X', 'Y', xlim=[-3, 3], ylim=[-3, 3])\n",
    "\n",
    "# Interactividad\n",
    "interact(f, alpha=(0, 1, 0.1), t=(0, 5, 0.1))\n",
    "\n",
    "# Defino la función de la gráfica\n",
    "    \n",
    "def formato_grafica(titulo, ejex, ejey, leyenda=False, xlim=[None, None], ylim=[None, None]):\n",
    "    plt.rcParams['axes.axisbelow'] = True\n",
    "\n",
    "    plt.title(titulo, fontsize=15)\n",
    "    plt.ylabel(ejey, fontsize=13)\n",
    "    plt.xlabel(ejex, fontsize=13)\n",
    "\n",
    "    plt.tick_params(direction='out', length=5, width=0.75, grid_alpha=0.3)\n",
    "    plt.xticks(rotation=0)\n",
    "    plt.minorticks_on()\n",
    "    plt.ylim(ylim[0], ylim[1])\n",
    "    plt.xlim(xlim[0], xlim[1])\n",
    "    plt.grid(True)\n",
    "    plt.grid(visible=True, which='major', color='grey', linestyle='-')\n",
    "    plt.grid(visible=True, which='minor', color='lightgrey', linestyle='-', alpha=0.2)\n",
    "    \n",
    "    if leyenda == True:\n",
    "        plt.legend(loc='best')\n",
    "    \n",
    "    plt.tight_layout\n",
    "\n"
   ]
  },
  {
   "cell_type": "markdown",
   "id": "7e91a521",
   "metadata": {},
   "source": [
    "1. Varie $\\alpha$ tres veces y comente los resultados.\n",
    "\n",
    "    R/: Se modificó alpha para los valores de 0, 0.5 y 1 manteniendo el valor del tiempo en 0. Se pudo observar que a medida que el alpha se incrementaba la gráfica mostraba un comportamiento mucho más convergente a 0, pues se puede observar como las lineas de flujo muestran una tendencia a estar más sesgadas hacia este valor. Pareciera que en el 0 hubiese un imán que al aumentar el alpha aumenta su fuerza de atracción.\n",
    "\n",
    " \n",
    "2. Varie el tiempo y comente lo que observa. \n",
    "    R/: Se modificó el tiempo para los valores de 1.5, 3.5 y 5 manteniendo el valor de alpha en 0. No se observó cambio alguno, ni siquiera modificando también el valor de alpha. "
   ]
  }
 ],
 "metadata": {
  "kernelspec": {
   "display_name": "Python 3 (ipykernel)",
   "language": "python",
   "name": "python3"
  },
  "language_info": {
   "codemirror_mode": {
    "name": "ipython",
    "version": 3
   },
   "file_extension": ".py",
   "mimetype": "text/x-python",
   "name": "python",
   "nbconvert_exporter": "python",
   "pygments_lexer": "ipython3",
   "version": "3.8.5"
  }
 },
 "nbformat": 4,
 "nbformat_minor": 5
}
