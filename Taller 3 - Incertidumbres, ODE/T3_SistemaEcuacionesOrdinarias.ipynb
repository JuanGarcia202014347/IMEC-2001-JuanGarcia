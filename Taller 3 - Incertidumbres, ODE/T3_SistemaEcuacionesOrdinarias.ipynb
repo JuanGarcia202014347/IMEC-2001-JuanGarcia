{
 "cells": [
  {
   "cell_type": "markdown",
   "id": "ea6e2bc4",
   "metadata": {},
   "source": [
    "Estudiante 1:\n",
    "\n",
    "Estudiante 2:\n",
    "\n",
    "----"
   ]
  },
  {
   "cell_type": "markdown",
   "id": "f09b1d95",
   "metadata": {},
   "source": [
    "# Departamento de Ingeniería Mecánica\n",
    "## IMEC 2001 - Herramientas Computacionales\n",
    "### Taller 3 - Sistemas de Ecuaciones Ordinarias\n",
    "----\n",
    "### **<span style=\"color:#A1CCD1;\">Condiciones de la entrega </span>**\n",
    "----\n",
    "**1. Fechas de entrega:**\n",
    "- Nota sobre 5.00 ->  <span style=\"color:red;\">1 de Octubre a las 23:59, 2023</span>\n",
    "\n",
    "**2. Colocar el nombre de los integrantes en la casilla correspondiente<br>**\n",
    "**3. La entrega del taller es por Bloque Neon y se envía el archivo en formato de Jupyter Notebook (extensión `.ipynb`)<br>**\n",
    "**4. El nombre del archivo debe ser:** \n",
    "- Si trabajó en parejas:`T#_ApellidosIntegrante1_ApellidosIntegrante2` (Ej: `T#_Salamanca_VargasTorres`)\n",
    "- Si trabajó individual: `T#_Apellido` (Ej: `T#_VargasTorres`)\n",
    "\n",
    "**5. Comente el código con el proceso que realizó para llegar a la solución.<br>**\n",
    "**6. <span style=\"color:red;\"> Si se detecta copia con otro de los talleres enviados, automáticamente la nota para los grupos involucrados es 0. </span>**\n",
    "\n",
    "\n",
    "\n"
   ]
  },
  {
   "cell_type": "markdown",
   "id": "54dac631",
   "metadata": {},
   "source": [
    "<a id=\"exercise3\"></a>\n",
    "## <font color=\"#276C9B\"> Actividad 1  </font>\n",
    "\n",
    "En los sistemas dinámicos bidimensionales para algunos casos se tienen los ciclos límite los cuales son una trayectoria cerrada en el espacio. A continuación tiene las ecuaciones de las que debe encontrar la solución para $x$ y $y$:\n",
    "\n",
    "$$y = - x' + x(1-x^2-y^2)$$\n",
    "$$-x = -y' + y(1-x^2-y^2)$$ \n",
    "\n",
    "El ejercicio que debe realizar consta de los siguientes pasos: \n",
    "1. Reescriba la ecuación para que se exprese la primera derivada en términos de x y y. \n",
    "3. Especifique como condiciones iniciales:\n",
    "- x(0) = 0\n",
    "- y(0) = 1\n",
    "4. Especifique el tiempo en el que se va a estudiar la respuesta. \n",
    "4. Solucione el sistema ode. \n",
    "5. Debe realizar una gráfica interactiva teniendo en cuenta la solución encontrada en el literal anterior. Para esto utilice la siguiente función (lo que se encuentra comentado debe completarlo): \n",
    "\n",
    "```Python\n",
    "def f(alpha, t):\n",
    "    tiempo = # Completar\n",
    "    sol = # Completar\n",
    "    \n",
    "    w = 3\n",
    "    x = np.linspace(-w, w, 101)\n",
    "    y = np.linspace(-w, w, 101)\n",
    "    # full coordinate arrays\n",
    "    X, Y = np.meshgrid(x, y)\n",
    "    U = alpha*X - alpha*(X**2 + Y**2)*X - Y\n",
    "    V = alpha*Y - alpha*(X**2 + Y**2)*Y + X\n",
    "    \n",
    "    fig, ax = plt.subplots(figsize=(5,5))\n",
    "    ax.plot(# Completar con la solución encontrada)\n",
    "    ax.streamplot(X,Y,U,V)\n",
    "\n",
    "    formato_grafica(# Completar)\n",
    " ```\n",
    "Para poder desplegar la gráfica utilice la siguiente línea de código:\n",
    "```Python\n",
    " interact(f, alpha=(0, 1, 0.1), t=(0, 'Completar', 0.1))\n",
    " ```"
   ]
  },
  {
   "cell_type": "code",
   "execution_count": 9,
   "id": "2428504a",
   "metadata": {},
   "outputs": [],
   "source": [
    "# Primero se cargan las librerías\n",
    "%matplotlib inline\n",
    "import matplotlib.pyplot as plt\n",
    "import pandas as pd\n",
    "import numpy as np\n",
    "import sympy\n",
    "from sympy.physics.mechanics import *\n",
    "\n",
    "# ODE\n",
    "from scipy import integrate"
   ]
  },
  {
   "cell_type": "code",
   "execution_count": 19,
   "id": "76a5cbf6",
   "metadata": {},
   "outputs": [
    {
     "data": {
      "text/plain": [
       "<function __main__.ode(variables, t)>"
      ]
     },
     "execution_count": 19,
     "metadata": {},
     "output_type": "execute_result"
    }
   ],
   "source": [
    "# Reescribo las ecuaciones y despejo las derivadas correspondientes\n",
    "def ode(variables, t):\n",
    "    # Variables\n",
    "    x = variables[0]\n",
    "    y = variables[1]\n",
    "    \n",
    "    # Ecuaciones\n",
    "    dx_dt = (x*(1-x^2-y^2))-y\n",
    "    dy_dt = (y*(1-x^2-y^2))+x\n",
    "    \n",
    "    return [dx_dt, dy_dt]\n",
    "\n",
    "\n",
    "ode"
   ]
  },
  {
   "cell_type": "code",
   "execution_count": 20,
   "id": "d134152e",
   "metadata": {},
   "outputs": [
    {
     "data": {
      "text/plain": [
       "[0, 1]"
      ]
     },
     "execution_count": 20,
     "metadata": {},
     "output_type": "execute_result"
    }
   ],
   "source": [
    "# Especifico las condiciones iniciales\n",
    "condiciones_iniciales = [0, 1] # [x0, y0]\n",
    "condiciones_iniciales"
   ]
  },
  {
   "cell_type": "code",
   "execution_count": 21,
   "id": "4b6479b6",
   "metadata": {},
   "outputs": [
    {
     "data": {
      "text/plain": [
       "array([ 0.        ,  0.20408163,  0.40816327,  0.6122449 ,  0.81632653,\n",
       "        1.02040816,  1.2244898 ,  1.42857143,  1.63265306,  1.83673469,\n",
       "        2.04081633,  2.24489796,  2.44897959,  2.65306122,  2.85714286,\n",
       "        3.06122449,  3.26530612,  3.46938776,  3.67346939,  3.87755102,\n",
       "        4.08163265,  4.28571429,  4.48979592,  4.69387755,  4.89795918,\n",
       "        5.10204082,  5.30612245,  5.51020408,  5.71428571,  5.91836735,\n",
       "        6.12244898,  6.32653061,  6.53061224,  6.73469388,  6.93877551,\n",
       "        7.14285714,  7.34693878,  7.55102041,  7.75510204,  7.95918367,\n",
       "        8.16326531,  8.36734694,  8.57142857,  8.7755102 ,  8.97959184,\n",
       "        9.18367347,  9.3877551 ,  9.59183673,  9.79591837, 10.        ])"
      ]
     },
     "execution_count": 21,
     "metadata": {},
     "output_type": "execute_result"
    }
   ],
   "source": [
    "# Especifico los valores para el tiempo en que se estudiará la respuesta\n",
    "inicio = 0\n",
    "final = 10\n",
    "cantidad = 50\n",
    "\n",
    "tiempo = np.linspace(inicio, final, cantidad)\n",
    "tiempo"
   ]
  },
  {
   "cell_type": "code",
   "execution_count": 22,
   "id": "9c4f9321",
   "metadata": {},
   "outputs": [
    {
     "ename": "TypeError",
     "evalue": "ufunc 'bitwise_xor' not supported for the input types, and the inputs could not be safely coerced to any supported types according to the casting rule ''safe''",
     "output_type": "error",
     "traceback": [
      "\u001b[1;31m---------------------------------------------------------------------------\u001b[0m",
      "\u001b[1;31mTypeError\u001b[0m                                 Traceback (most recent call last)",
      "\u001b[1;32m<ipython-input-22-1f3605315eba>\u001b[0m in \u001b[0;36m<module>\u001b[1;34m\u001b[0m\n\u001b[1;32m----> 1\u001b[1;33m sol = integrate.odeint(func=ode, \n\u001b[0m\u001b[0;32m      2\u001b[0m                        \u001b[0my0\u001b[0m\u001b[1;33m=\u001b[0m\u001b[0mcondiciones_iniciales\u001b[0m\u001b[1;33m,\u001b[0m\u001b[1;33m\u001b[0m\u001b[1;33m\u001b[0m\u001b[0m\n\u001b[0;32m      3\u001b[0m                        t=tiempo)\n\u001b[0;32m      4\u001b[0m \u001b[1;33m\u001b[0m\u001b[0m\n\u001b[0;32m      5\u001b[0m \u001b[0msol\u001b[0m\u001b[1;33m\u001b[0m\u001b[1;33m\u001b[0m\u001b[0m\n",
      "\u001b[1;32mc:\\Users\\Juand\\Downloads\\Anaconda\\lib\\site-packages\\scipy\\integrate\\odepack.py\u001b[0m in \u001b[0;36modeint\u001b[1;34m(func, y0, t, args, Dfun, col_deriv, full_output, ml, mu, rtol, atol, tcrit, h0, hmax, hmin, ixpr, mxstep, mxhnil, mxordn, mxords, printmessg, tfirst)\u001b[0m\n\u001b[0;32m    239\u001b[0m     \u001b[0mt\u001b[0m \u001b[1;33m=\u001b[0m \u001b[0mcopy\u001b[0m\u001b[1;33m(\u001b[0m\u001b[0mt\u001b[0m\u001b[1;33m)\u001b[0m\u001b[1;33m\u001b[0m\u001b[1;33m\u001b[0m\u001b[0m\n\u001b[0;32m    240\u001b[0m     \u001b[0my0\u001b[0m \u001b[1;33m=\u001b[0m \u001b[0mcopy\u001b[0m\u001b[1;33m(\u001b[0m\u001b[0my0\u001b[0m\u001b[1;33m)\u001b[0m\u001b[1;33m\u001b[0m\u001b[1;33m\u001b[0m\u001b[0m\n\u001b[1;32m--> 241\u001b[1;33m     output = _odepack.odeint(func, y0, t, args, Dfun, col_deriv, ml, mu,\n\u001b[0m\u001b[0;32m    242\u001b[0m                              \u001b[0mfull_output\u001b[0m\u001b[1;33m,\u001b[0m \u001b[0mrtol\u001b[0m\u001b[1;33m,\u001b[0m \u001b[0matol\u001b[0m\u001b[1;33m,\u001b[0m \u001b[0mtcrit\u001b[0m\u001b[1;33m,\u001b[0m \u001b[0mh0\u001b[0m\u001b[1;33m,\u001b[0m \u001b[0mhmax\u001b[0m\u001b[1;33m,\u001b[0m \u001b[0mhmin\u001b[0m\u001b[1;33m,\u001b[0m\u001b[1;33m\u001b[0m\u001b[1;33m\u001b[0m\u001b[0m\n\u001b[0;32m    243\u001b[0m                              \u001b[0mixpr\u001b[0m\u001b[1;33m,\u001b[0m \u001b[0mmxstep\u001b[0m\u001b[1;33m,\u001b[0m \u001b[0mmxhnil\u001b[0m\u001b[1;33m,\u001b[0m \u001b[0mmxordn\u001b[0m\u001b[1;33m,\u001b[0m \u001b[0mmxords\u001b[0m\u001b[1;33m,\u001b[0m\u001b[1;33m\u001b[0m\u001b[1;33m\u001b[0m\u001b[0m\n",
      "\u001b[1;32m<ipython-input-19-f1536f1cfbfc>\u001b[0m in \u001b[0;36mode\u001b[1;34m(variables, t)\u001b[0m\n\u001b[0;32m      6\u001b[0m \u001b[1;33m\u001b[0m\u001b[0m\n\u001b[0;32m      7\u001b[0m     \u001b[1;31m# Ecuaciones\u001b[0m\u001b[1;33m\u001b[0m\u001b[1;33m\u001b[0m\u001b[1;33m\u001b[0m\u001b[0m\n\u001b[1;32m----> 8\u001b[1;33m     \u001b[0mdx_dt\u001b[0m \u001b[1;33m=\u001b[0m \u001b[1;33m(\u001b[0m\u001b[0mx\u001b[0m\u001b[1;33m*\u001b[0m\u001b[1;33m(\u001b[0m\u001b[1;36m1\u001b[0m\u001b[1;33m-\u001b[0m\u001b[0mx\u001b[0m\u001b[1;33m^\u001b[0m\u001b[1;36m2\u001b[0m\u001b[1;33m-\u001b[0m\u001b[0my\u001b[0m\u001b[1;33m^\u001b[0m\u001b[1;36m2\u001b[0m\u001b[1;33m)\u001b[0m\u001b[1;33m)\u001b[0m\u001b[1;33m-\u001b[0m\u001b[0my\u001b[0m\u001b[1;33m\u001b[0m\u001b[1;33m\u001b[0m\u001b[0m\n\u001b[0m\u001b[0;32m      9\u001b[0m     \u001b[0mdy_dt\u001b[0m \u001b[1;33m=\u001b[0m \u001b[1;33m(\u001b[0m\u001b[0my\u001b[0m\u001b[1;33m*\u001b[0m\u001b[1;33m(\u001b[0m\u001b[1;36m1\u001b[0m\u001b[1;33m-\u001b[0m\u001b[0mx\u001b[0m\u001b[1;33m^\u001b[0m\u001b[1;36m2\u001b[0m\u001b[1;33m-\u001b[0m\u001b[0my\u001b[0m\u001b[1;33m^\u001b[0m\u001b[1;36m2\u001b[0m\u001b[1;33m)\u001b[0m\u001b[1;33m)\u001b[0m\u001b[1;33m+\u001b[0m\u001b[0mx\u001b[0m\u001b[1;33m\u001b[0m\u001b[1;33m\u001b[0m\u001b[0m\n\u001b[0;32m     10\u001b[0m \u001b[1;33m\u001b[0m\u001b[0m\n",
      "\u001b[1;31mTypeError\u001b[0m: ufunc 'bitwise_xor' not supported for the input types, and the inputs could not be safely coerced to any supported types according to the casting rule ''safe''"
     ]
    }
   ],
   "source": [
    "sol = integrate.odeint(func=ode, \n",
    "                       y0=condiciones_iniciales, \n",
    "                       t=tiempo)\n",
    "\n",
    "sol"
   ]
  },
  {
   "cell_type": "code",
   "execution_count": 1,
   "id": "e7d92fab",
   "metadata": {},
   "outputs": [
    {
     "ename": "SyntaxError",
     "evalue": "invalid syntax (<ipython-input-1-b7f398c4252d>, line 2)",
     "output_type": "error",
     "traceback": [
      "\u001b[1;36m  File \u001b[1;32m\"<ipython-input-1-b7f398c4252d>\"\u001b[1;36m, line \u001b[1;32m2\u001b[0m\n\u001b[1;33m    tiempo = # Completar\u001b[0m\n\u001b[1;37m             ^\u001b[0m\n\u001b[1;31mSyntaxError\u001b[0m\u001b[1;31m:\u001b[0m invalid syntax\n"
     ]
    }
   ],
   "source": [
    "def f(alpha, t):\n",
    "    tiempo = # Completar\n",
    "    sol = # Completar\n",
    "    \n",
    "    w = 3\n",
    "    x = np.linspace(-w, w, 101)\n",
    "    y = np.linspace(-w, w, 101)\n",
    "    # full coordinate arrays\n",
    "    X, Y = np.meshgrid(x, y)\n",
    "    U = alpha*X - alpha*(X**2 + Y**2)*X - Y\n",
    "    V = alpha*Y - alpha*(X**2 + Y**2)*Y + X\n",
    "    \n",
    "    fig, ax = plt.subplots(figsize=(5,5))\n",
    "    ax.plot(# Completar con la solución encontrada)\n",
    "    ax.streamplot(X,Y,U,V)\n",
    "\n",
    "    formato_grafica(# Completar)"
   ]
  },
  {
   "cell_type": "markdown",
   "id": "7e91a521",
   "metadata": {},
   "source": [
    "1. Varie $\\alpha$ tres veces y comente los resultados.\n",
    "2. Varie el tiempo y comente lo que observa. "
   ]
  }
 ],
 "metadata": {
  "kernelspec": {
   "display_name": "Python 3 (ipykernel)",
   "language": "python",
   "name": "python3"
  },
  "language_info": {
   "codemirror_mode": {
    "name": "ipython",
    "version": 3
   },
   "file_extension": ".py",
   "mimetype": "text/x-python",
   "name": "python",
   "nbconvert_exporter": "python",
   "pygments_lexer": "ipython3",
   "version": "3.8.5"
  }
 },
 "nbformat": 4,
 "nbformat_minor": 5
}
